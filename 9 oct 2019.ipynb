{
 "cells": [
  {
   "cell_type": "markdown",
   "metadata": {},
   "source": [
    "## Data Encryption and decryption"
   ]
  },
  {
   "cell_type": "code",
   "execution_count": 3,
   "metadata": {},
   "outputs": [
    {
     "data": {
      "text/plain": [
       "'cdef'"
      ]
     },
     "execution_count": 3,
     "metadata": {},
     "output_type": "execute_result"
    }
   ],
   "source": [
    "data='abcd'\n",
    "encrypteddata=''\n",
    "for char in data:\n",
    "    encrypteddata+=chr(ord(char)+2)\n",
    "encrypteddata    \n",
    "    "
   ]
  },
  {
   "cell_type": "code",
   "execution_count": 4,
   "metadata": {},
   "outputs": [
    {
     "data": {
      "text/plain": [
       "'abcd'"
      ]
     },
     "execution_count": 4,
     "metadata": {},
     "output_type": "execute_result"
    }
   ],
   "source": [
    "inputdata=encrypteddata\n",
    "originaldata=''\n",
    "for char in inputdata:\n",
    "    originaldata+=chr(ord(char)-2)\n",
    "originaldata    \n",
    "    "
   ]
  },
  {
   "cell_type": "code",
   "execution_count": 2,
   "metadata": {},
   "outputs": [],
   "source": [
    "# function to generate key to encrypt data\n",
    "def generatekey(keypath):\n",
    "    with open(keypath,'w') as f:\n",
    "        for i in range(10):\n",
    "            if i<6:\n",
    "                f.write(str(i)+\" \"+str(i+4)+\"\\n\")\n",
    "            else:\n",
    "                f.write(str(i)+\" \"+str(i-6)+\" \\n\")\n",
    "    return\n",
    "keypath='datafiles/key.txt'\n",
    "generatekey(keypath)"
   ]
  },
  {
   "cell_type": "code",
   "execution_count": 4,
   "metadata": {},
   "outputs": [
    {
     "name": "stdout",
     "output_type": "stream",
     "text": [
      "['0', '4']\n",
      "['1', '5']\n",
      "['2', '6']\n",
      "['3', '7']\n",
      "['4', '8']\n",
      "['5', '9']\n",
      "['6', '0']\n",
      "['7', '1']\n",
      "['8', '2']\n",
      "['9', '3']\n"
     ]
    },
    {
     "data": {
      "text/plain": [
       "{'0': '4',\n",
       " '1': '5',\n",
       " '2': '6',\n",
       " '3': '7',\n",
       " '4': '8',\n",
       " '5': '9',\n",
       " '6': '0',\n",
       " '7': '1',\n",
       " '8': '2',\n",
       " '9': '3'}"
      ]
     },
     "execution_count": 4,
     "metadata": {},
     "output_type": "execute_result"
    }
   ],
   "source": [
    "def dictkeyfile(keyfile):\n",
    "    key={}\n",
    "    with open(keyfile,'r') as f:\n",
    "        for line in f:\n",
    "            line=line.split()\n",
    "            print(line)\n",
    "            key[line[0]]=line[1]\n",
    "    return key        \n",
    "keyfile='datafiles/key.txt'\n",
    "k=dictkeyfile(keyfile)\n",
    "k"
   ]
  },
  {
   "cell_type": "code",
   "execution_count": 5,
   "metadata": {},
   "outputs": [
    {
     "name": "stdout",
     "output_type": "stream",
     "text": [
      "['0', '4']\n",
      "['1', '5']\n",
      "['2', '6']\n",
      "['3', '7']\n",
      "['4', '8']\n",
      "['5', '9']\n",
      "['6', '0']\n",
      "['7', '1']\n",
      "['8', '2']\n",
      "['9', '3']\n",
      "['34', '44', '53', '55', '11']\n",
      "m 34\n",
      "d 3\n",
      "d 4\n",
      "m 44\n",
      "d 4\n",
      "d 4\n",
      "m 53\n",
      "d 5\n",
      "d 3\n",
      "m 55\n",
      "d 5\n",
      "d 5\n",
      "m 11\n",
      "d 1\n",
      "d 1\n"
     ]
    }
   ],
   "source": [
    "# function to encryptdata\n",
    "def encryptmarksdata(datafile,keyfile):\n",
    "    key=dictkeyfile(keyfile) #dictionary\n",
    "    with open(datafile,'r') as f:\n",
    "        filedata=f.read().split('\\n')\n",
    "        print(filedata)\n",
    "    with open('datafiles/encryptedmarks.txt','w') as f:\n",
    "        for mark in filedata:\n",
    "            print('m',mark)\n",
    "            line=''\n",
    "            for digit in mark:\n",
    "                print('d',digit)\n",
    "                line+=key[digit]\n",
    "            f.write(line+'\\n')\n",
    "        return    \n",
    "datafile='datafiles/marks1.txt'\n",
    "keyfile='datafiles/key.txt'\n",
    "encryptmarksdata(datafile,keyfile)\n",
    "    \n"
   ]
  },
  {
   "cell_type": "code",
   "execution_count": null,
   "metadata": {},
   "outputs": [],
   "source": []
  },
  {
   "cell_type": "code",
   "execution_count": null,
   "metadata": {},
   "outputs": [],
   "source": []
  },
  {
   "cell_type": "code",
   "execution_count": null,
   "metadata": {},
   "outputs": [],
   "source": []
  }
 ],
 "metadata": {
  "kernelspec": {
   "display_name": "Python 3",
   "language": "python",
   "name": "python3"
  },
  "language_info": {
   "codemirror_mode": {
    "name": "ipython",
    "version": 3
   },
   "file_extension": ".py",
   "mimetype": "text/x-python",
   "name": "python",
   "nbconvert_exporter": "python",
   "pygments_lexer": "ipython3",
   "version": "3.7.3"
  }
 },
 "nbformat": 4,
 "nbformat_minor": 2
}
