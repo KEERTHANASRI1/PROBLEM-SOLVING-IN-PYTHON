{
 "cells": [
  {
   "cell_type": "markdown",
   "metadata": {},
   "source": [
    "# List comprehensions\n",
    "* Syntax[expression for _loop_one_or_more conditions]"
   ]
  },
  {
   "cell_type": "code",
   "execution_count": 4,
   "metadata": {},
   "outputs": [
    {
     "name": "stdout",
     "output_type": "stream",
     "text": [
      "[1, 2, 3, 4]\n"
     ]
    },
    {
     "data": {
      "text/plain": [
       "list"
      ]
     },
     "execution_count": 4,
     "metadata": {},
     "output_type": "execute_result"
    }
   ],
   "source": [
    "n=\"1 2 3 4\"\n",
    "int_n=[]\n",
    "for ele in n.split():\n",
    "    int_n.append(int(ele))\n",
    "print(int_n)\n",
    "type(int_n)"
   ]
  },
  {
   "cell_type": "code",
   "execution_count": 6,
   "metadata": {},
   "outputs": [],
   "source": [
    "int_n2=[int(ele) for ele in n.split()]"
   ]
  },
  {
   "cell_type": "code",
   "execution_count": 7,
   "metadata": {},
   "outputs": [
    {
     "data": {
      "text/plain": [
       "[1, 2, 3, 4]"
      ]
     },
     "execution_count": 7,
     "metadata": {},
     "output_type": "execute_result"
    }
   ],
   "source": [
    "int_n2"
   ]
  },
  {
   "cell_type": "code",
   "execution_count": 5,
   "metadata": {},
   "outputs": [],
   "source": [
    "int_n2=[int(ele) for ele in n.split() if int(ele)%2==0]"
   ]
  },
  {
   "cell_type": "code",
   "execution_count": 6,
   "metadata": {},
   "outputs": [
    {
     "data": {
      "text/plain": [
       "[2, 4]"
      ]
     },
     "execution_count": 6,
     "metadata": {},
     "output_type": "execute_result"
    }
   ],
   "source": [
    "int_n2"
   ]
  },
  {
   "cell_type": "code",
   "execution_count": 18,
   "metadata": {},
   "outputs": [],
   "source": [
    "k=\"hii keerthana sri how are you\"\n",
    "ls=[ w for w in k.split()]"
   ]
  },
  {
   "cell_type": "code",
   "execution_count": 19,
   "metadata": {},
   "outputs": [
    {
     "data": {
      "text/plain": [
       "['hii', 'keerthana', 'sri', 'how', 'are', 'you']"
      ]
     },
     "execution_count": 19,
     "metadata": {},
     "output_type": "execute_result"
    }
   ],
   "source": [
    "ls"
   ]
  },
  {
   "cell_type": "code",
   "execution_count": 20,
   "metadata": {},
   "outputs": [],
   "source": [
    "k=\"hii keerthana sri how are you\"\n",
    "ls=[char for w in k.split()for char in w]"
   ]
  },
  {
   "cell_type": "code",
   "execution_count": 21,
   "metadata": {},
   "outputs": [
    {
     "data": {
      "text/plain": [
       "['h',\n",
       " 'i',\n",
       " 'i',\n",
       " 'k',\n",
       " 'e',\n",
       " 'e',\n",
       " 'r',\n",
       " 't',\n",
       " 'h',\n",
       " 'a',\n",
       " 'n',\n",
       " 'a',\n",
       " 's',\n",
       " 'r',\n",
       " 'i',\n",
       " 'h',\n",
       " 'o',\n",
       " 'w',\n",
       " 'a',\n",
       " 'r',\n",
       " 'e',\n",
       " 'y',\n",
       " 'o',\n",
       " 'u']"
      ]
     },
     "execution_count": 21,
     "metadata": {},
     "output_type": "execute_result"
    }
   ],
   "source": [
    "ls"
   ]
  },
  {
   "cell_type": "code",
   "execution_count": 33,
   "metadata": {},
   "outputs": [
    {
     "name": "stdout",
     "output_type": "stream",
     "text": [
      "13B15A84R7\n",
      "29\n"
     ]
    }
   ],
   "source": [
    "def string(n):\n",
    "    list1=[int(i) for i in n if i.isdigit()]\n",
    "    print(sum(list1))\n",
    "string(input())    "
   ]
  },
  {
   "cell_type": "code",
   "execution_count": 19,
   "metadata": {},
   "outputs": [
    {
     "name": "stdout",
     "output_type": "stream",
     "text": [
      "keerthana rajkumar rani raja\n",
      "['keerthana', 'raja']\n"
     ]
    }
   ],
   "source": [
    "def name(n):\n",
    "    l=[s for s in n.split() if s.endswith(\"a\")]\n",
    "    print(l)\n",
    "name(input())    "
   ]
  },
  {
   "cell_type": "code",
   "execution_count": 16,
   "metadata": {},
   "outputs": [
    {
     "data": {
      "text/plain": [
       "[34.6, 44.9, 68.3, 44.6, 12.7]"
      ]
     },
     "execution_count": 16,
     "metadata": {},
     "output_type": "execute_result"
    }
   ],
   "source": [
    "r = [float(sval) for sval in '34.6, -203.4, 44.9, 68.3, -12.2, 44.6, 12.7'.split(', ') if float(sval)>0]\n",
    "r"
   ]
  },
  {
   "cell_type": "code",
   "execution_count": 13,
   "metadata": {},
   "outputs": [
    {
     "name": "stdout",
     "output_type": "stream",
     "text": [
      "34.6\n",
      "-203.4\n",
      "44.9\n",
      "68.3\n",
      "-12.2\n",
      "44.6\n",
      "12.7\n"
     ]
    }
   ],
   "source": [
    "for ele in r:\n",
    "    print(float(ele))"
   ]
  },
  {
   "cell_type": "code",
   "execution_count": 26,
   "metadata": {},
   "outputs": [
    {
     "name": "stdout",
     "output_type": "stream",
     "text": [
      "My name is Aarshay Jain!\n",
      "['name', 'is', 'Aarshay', 'Jain!']\n"
     ]
    }
   ],
   "source": [
    "def string(n):\n",
    "    r=[k for k in n.split() if \"a\" in k or \"e\" in k or \"i\" in k or \"o\" in k or \"u\" in k ]\n",
    "    print(r)\n",
    "string(input())    \n",
    "    "
   ]
  },
  {
   "cell_type": "code",
   "execution_count": 34,
   "metadata": {},
   "outputs": [
    {
     "name": "stdout",
     "output_type": "stream",
     "text": [
      "My name is Aarshay Jain!\n",
      "My nm s Arshy Jn!\n"
     ]
    }
   ],
   "source": [
    "def string(n):\n",
    "    s=\"aeiou\"\n",
    "    print(\"\".join([k for k in n if k not in s ]))\n",
    "string(input())    "
   ]
  },
  {
   "cell_type": "code",
   "execution_count": null,
   "metadata": {},
   "outputs": [],
   "source": []
  }
 ],
 "metadata": {
  "kernelspec": {
   "display_name": "Python 3",
   "language": "python",
   "name": "python3"
  },
  "language_info": {
   "codemirror_mode": {
    "name": "ipython",
    "version": 3
   },
   "file_extension": ".py",
   "mimetype": "text/x-python",
   "name": "python",
   "nbconvert_exporter": "python",
   "pygments_lexer": "ipython3",
   "version": "3.7.3"
  }
 },
 "nbformat": 4,
 "nbformat_minor": 2
}
