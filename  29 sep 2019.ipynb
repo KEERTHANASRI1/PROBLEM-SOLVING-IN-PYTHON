{
 "cells": [
  {
   "cell_type": "markdown",
   "metadata": {},
   "source": [
    "# File Handling\n",
    "* open \n",
    "* read\n",
    "* write\n",
    "* append\n",
    "* close\n",
    "* tell\n",
    "* seek"
   ]
  },
  {
   "cell_type": "markdown",
   "metadata": {},
   "source": [
    "* method 1"
   ]
  },
  {
   "cell_type": "code",
   "execution_count": 1,
   "metadata": {},
   "outputs": [
    {
     "name": "stdout",
     "output_type": "stream",
     "text": [
      "Hii i am keerthana sri do hardwok .. hardwork never fails \n",
      "self motivation is the best motivation\n",
      "self control is very important\n"
     ]
    }
   ],
   "source": [
    "f=open(\"sampledata.txt\",'r')\n",
    "data=f.read()\n",
    "print(data)\n",
    "f.close()"
   ]
  },
  {
   "cell_type": "markdown",
   "metadata": {},
   "source": [
    "* Method 2"
   ]
  },
  {
   "cell_type": "code",
   "execution_count": 3,
   "metadata": {},
   "outputs": [
    {
     "name": "stdout",
     "output_type": "stream",
     "text": [
      "Hii i am keerthana sri do hardwok .. hardwork never fails \n",
      "self motivation is the best motivation\n",
      "self control is very important\n"
     ]
    }
   ],
   "source": [
    "with open(\"sampledata.txt\",'r') as f:\n",
    "    data=f.read()\n",
    "    print(data)"
   ]
  },
  {
   "cell_type": "code",
   "execution_count": 5,
   "metadata": {},
   "outputs": [
    {
     "name": "stdout",
     "output_type": "stream",
     "text": [
      "Hii i am keerthana sri do hardwok .. hardwork never fails \n",
      "self motivation is the best motivation\n",
      "self control is very important\n"
     ]
    }
   ],
   "source": [
    "def readdata(f):\n",
    "    f=open(\"sampledata.txt\",'r')\n",
    "    data=f.read()\n",
    "    print(data)\n",
    "    f.close()\n",
    "readdata(f)"
   ]
  },
  {
   "cell_type": "code",
   "execution_count": 7,
   "metadata": {},
   "outputs": [
    {
     "name": "stdout",
     "output_type": "stream",
     "text": [
      "sampledata.txt\n",
      "Hii i am keerthana sri do hardwok .. hardwork never fails \n",
      "self motivation is the best motivation\n",
      "self control is very important\n"
     ]
    }
   ],
   "source": [
    "def readdata(filename):\n",
    "    f=open(filename,'r')\n",
    "    data=f.read()\n",
    "    print(data)\n",
    "    f.close()\n",
    "readdata(input())"
   ]
  },
  {
   "cell_type": "code",
   "execution_count": null,
   "metadata": {},
   "outputs": [],
   "source": [
    "def readdata(filename):\n",
    "    f=open(filename,'r')\n",
    "    data=f.read()\n",
    "    print(data)\n",
    "    f.close()\n",
    "    return data"
   ]
  },
  {
   "cell_type": "code",
   "execution_count": null,
   "metadata": {},
   "outputs": [],
   "source": [
    "print()"
   ]
  },
  {
   "cell_type": "code",
   "execution_count": 8,
   "metadata": {},
   "outputs": [
    {
     "name": "stdout",
     "output_type": "stream",
     "text": [
      "hello\n"
     ]
    }
   ],
   "source": [
    "with open(\"text.txt\",'w') as f:\n",
    "        f.write(input())\n",
    "        "
   ]
  },
  {
   "cell_type": "code",
   "execution_count": 13,
   "metadata": {},
   "outputs": [
    {
     "name": "stdout",
     "output_type": "stream",
     "text": [
      "2\n",
      "hi\n",
      "hello\n"
     ]
    }
   ],
   "source": [
    "n=int(input())\n",
    "for i in range(n):\n",
    "    with open(\"write.txt\",'w') as d:\n",
    "        d.write(input())\n",
    "        \n",
    "        "
   ]
  },
  {
   "cell_type": "code",
   "execution_count": 1,
   "metadata": {},
   "outputs": [
    {
     "name": "stdout",
     "output_type": "stream",
     "text": [
      "6\n",
      "hii this is my family\n",
      "RAJA\n",
      "RANI\n",
      "SRI RAJKUMAR\n",
      "KEERTHANA SRI\n",
      "hii\n"
     ]
    }
   ],
   "source": [
    "n=int(input())\n",
    "for i in range(n):\n",
    "    with open(\"write.txt\",'a') as d:\n",
    "        d.write(input()+'\\n')\n",
    "        \n",
    "        "
   ]
  },
  {
   "cell_type": "code",
   "execution_count": null,
   "metadata": {},
   "outputs": [
    {
     "name": "stdout",
     "output_type": "stream",
     "text": [
      "line count 4\n",
      "e\n",
      "character count 0\n",
      "word count 1\n",
      "details\n",
      "unique word count 0\n",
      "line count 5\n",
      "characeter count2\n",
      "character count 0\n",
      "word count 2\n",
      "word count\n",
      "unique word count 0\n",
      "line count 5\n",
      "keerthana\n",
      "character count 0\n",
      "word count 3\n"
     ]
    }
   ],
   "source": [
    "with open(\"write.txt\") as f:\n",
    "    c=0\n",
    "    data=f.readlines()\n",
    "    for i in data:\n",
    "        l=len(i)\n",
    "        print(\"line count\",l)\n",
    "        print(\"character count\",i.count(input()))\n",
    "        c=c+1\n",
    "        print(\"word count\",c)\n",
    "        print(\"unique word count\",data.count(input()))\n",
    "    print(c)    "
   ]
  },
  {
   "cell_type": "code",
   "execution_count": null,
   "metadata": {},
   "outputs": [],
   "source": [
    "c=0\n",
    "with open(\"write.txt\") as f:\n",
    "    data=f.readlines()\n",
    "    for i in data:\n",
    "        c=c+1\n",
    "        print(i)\n",
    "    print(c)    "
   ]
  },
  {
   "cell_type": "code",
   "execution_count": 1,
   "metadata": {},
   "outputs": [
    {
     "data": {
      "text/plain": [
       "142"
      ]
     },
     "execution_count": 1,
     "metadata": {},
     "output_type": "execute_result"
    }
   ],
   "source": [
    "import os\n",
    "n=os.stat(\"write.txt\")\n",
    "n.st_size"
   ]
  },
  {
   "cell_type": "code",
   "execution_count": 3,
   "metadata": {},
   "outputs": [
    {
     "name": "stdout",
     "output_type": "stream",
     "text": [
      "142\n"
     ]
    }
   ],
   "source": [
    "with open(\"write.txt\") as f:\n",
    "    data=f.read()\n",
    "    print(f.tell())"
   ]
  },
  {
   "cell_type": "code",
   "execution_count": 1,
   "metadata": {},
   "outputs": [
    {
     "name": "stdout",
     "output_type": "stream",
     "text": [
      "HAI\n",
      "RAJA\n",
      "R\n"
     ]
    }
   ],
   "source": [
    "with open(\"write.txt\") as f:\n",
    "    data=f.read()\n",
    "    f.seek(0)\n",
    "    print(f.read(10))"
   ]
  },
  {
   "cell_type": "code",
   "execution_count": 2,
   "metadata": {},
   "outputs": [],
   "source": [
    "file='contacts_data.txt'\n",
    "def newcontact(name,contact):\n",
    "    fh=open(file,'a')\n",
    "    fh.write(name+\" \"+str(contact)+\"\\n\")\n",
    "    fh.close()\n",
    "    return 'contact saved'"
   ]
  },
  {
   "cell_type": "code",
   "execution_count": 3,
   "metadata": {},
   "outputs": [
    {
     "data": {
      "text/plain": [
       "'contact saved'"
      ]
     },
     "execution_count": 3,
     "metadata": {},
     "output_type": "execute_result"
    }
   ],
   "source": [
    "newcontact(\"keerthana\",9490929396)"
   ]
  },
  {
   "cell_type": "code",
   "execution_count": 4,
   "metadata": {},
   "outputs": [
    {
     "name": "stdout",
     "output_type": "stream",
     "text": [
      "9490929396\n"
     ]
    }
   ],
   "source": [
    "def readcontact(name):\n",
    "    fh=open(file)\n",
    "    lines=fh.readlines()\n",
    "    for line in lines:\n",
    "        words=line.split()\n",
    "        contact_name=words[0]\n",
    "        contact=words[1]\n",
    "        if name==contact_name:\n",
    "            print(contact)\n",
    "            break\n",
    "readcontact(\"keerthana\")            "
   ]
  },
  {
   "cell_type": "code",
   "execution_count": 5,
   "metadata": {},
   "outputs": [],
   "source": [
    "def readcontact(name):\n",
    "    f=open(file)\n",
    "    lines=f.readlines()\n",
    "    "
   ]
  },
  {
   "cell_type": "code",
   "execution_count": 6,
   "metadata": {},
   "outputs": [],
   "source": [
    "from random import randint \n",
    "with open(\"marks.txt\",\"w\") as mf:\n",
    "    for i in range(1000):\n",
    "        mf.write(str(randint(0,1000))+\"\\n\")\n",
    "    "
   ]
  },
  {
   "cell_type": "code",
   "execution_count": 7,
   "metadata": {},
   "outputs": [
    {
     "data": {
      "text/plain": [
       "368"
      ]
     },
     "execution_count": 7,
     "metadata": {},
     "output_type": "execute_result"
    }
   ],
   "source": [
    "randint(0,1000)"
   ]
  },
  {
   "cell_type": "markdown",
   "metadata": {},
   "source": [
    "* write a function to calculate highest marks from marks.txt file\n",
    " * avg\n",
    " * pass%\n",
    " * fail%\n",
    " * distiction%   "
   ]
  },
  {
   "cell_type": "code",
   "execution_count": 8,
   "metadata": {},
   "outputs": [
    {
     "name": "stdout",
     "output_type": "stream",
     "text": [
      "average: 493.809\n",
      "max: 1000\n",
      "pass%: 968.0\n",
      "fail%: 32.0\n",
      "distinction%: 926.0\n"
     ]
    }
   ],
   "source": [
    "def classreport(file):\n",
    "        mf=open(file) \n",
    "        data=mf.read().split()\n",
    "        l=list(map(int,data))\n",
    "        avg=sum(l)/len(l)\n",
    "        print(\"average:\",avg)\n",
    "        print(\"max:\",max(l))\n",
    "        f=0\n",
    "        p=0\n",
    "        d=0\n",
    "        for el in l:\n",
    "            if el>=35:\n",
    "                p=p+1\n",
    "            elif el<35:\n",
    "                f=f+1\n",
    "            if el>=75:\n",
    "                d=d+1\n",
    "        print(\"pass%:\",(p/len(l))*1000)\n",
    "        print(\"fail%:\",(f/len(l))*1000)\n",
    "        print(\"distinction%:\",(d/len(l))*1000)\n",
    "classreport(\"marks.txt\")    \n",
    "    \n",
    "    \n",
    "    \n",
    "    \n",
    "    "
   ]
  }
 ],
 "metadata": {
  "kernelspec": {
   "display_name": "Python 3",
   "language": "python",
   "name": "python3"
  },
  "language_info": {
   "codemirror_mode": {
    "name": "ipython",
    "version": 3
   },
   "file_extension": ".py",
   "mimetype": "text/x-python",
   "name": "python",
   "nbconvert_exporter": "python",
   "pygments_lexer": "ipython3",
   "version": "3.7.3"
  }
 },
 "nbformat": 4,
 "nbformat_minor": 2
}
